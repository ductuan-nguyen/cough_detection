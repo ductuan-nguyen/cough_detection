{
 "cells": [
  {
   "cell_type": "code",
   "execution_count": 1,
   "metadata": {},
   "outputs": [],
   "source": [
    "import os\n",
    "import json"
   ]
  },
  {
   "cell_type": "code",
   "execution_count": null,
   "metadata": {},
   "outputs": [],
   "source": [
    "RAW_DATA = '20200416/20200416'\n",
    "CUT_DATA = 'audio_1s'"
   ]
  },
  {
   "cell_type": "code",
   "execution_count": 16,
   "metadata": {},
   "outputs": [],
   "source": [
    "\n",
    "age = {}\n",
    "for data_folder in os.listdir(data_dir):\n",
    "    for file in os.listdir(os.path.join(data_dir, data_folder)):\n",
    "        if '.json' in file:\n",
    "            with open(os.path.join(data_dir, data_folder, file)) as f:\n",
    "                data = json.load(f)\n",
    "                a = data['a']\n",
    "                if a in age:\n",
    "                    age[a] += 1\n",
    "                else:\n",
    "                    age[a] = 1\n",
    "\n",
    "d = sorted(age)\n",
    "age_d = [age[a] for a in d]"
   ]
  },
  {
   "cell_type": "code",
   "execution_count": 20,
   "metadata": {},
   "outputs": [
    {
     "name": "stdout",
     "output_type": "stream",
     "text": [
      "[10, 14, 17, 18, 19, 20, 21, 22, 23, 24, 25, 26, 27, 28, 29, 30, 31, 32, 33, 34, 35, 36, 37, 38, 39, 40, 41, 42, 43, 44, 45, 49, 50, 51, 52, 54, 55, 56, 62, 63, 64, 69, 70, 71]\n",
      "[1, 2, 2, 2, 7, 4, 6, 5, 11, 5, 24, 17, 11, 9, 9, 11, 9, 4, 4, 3, 4, 5, 2, 1, 3, 1, 2, 3, 1, 3, 4, 2, 2, 1, 3, 4, 2, 1, 1, 1, 2, 1, 1, 1]\n"
     ]
    }
   ],
   "source": [
    "print(d)\n",
    "print(age_d)"
   ]
  },
  {
   "cell_type": "code",
   "execution_count": 21,
   "metadata": {},
   "outputs": [
    {
     "data": {
      "image/png": "[encoded data removed]",
      "text/plain": [
       "<Figure size 432x288 with 1 Axes>"
      ]
     },
     "metadata": {
      "needs_background": "light"
     },
     "output_type": "display_data"
    }
   ],
   "source": [
    "import matplotlib.pyplot as plt \n",
    "fig, ax = plt.subplots()\n",
    "fig.set\n",
    "hbars = ax.bar(age_d, d, align='center')\n",
    "ax.set_yticks(age_d)\n",
    "# ax.set_yticklabels(d)\n",
    "# ax.invert_yaxis()  \n",
    "\n",
    "# Label with specially formatted floats\n",
    "ax.bar_label(hbars, fmt='%d')\n",
    "\n",
    "plt.show()"
   ]
  },
  {
   "cell_type": "code",
   "execution_count": null,
   "metadata": {},
   "outputs": [],
   "source": []
  }
 ],
 "metadata": {
  "interpreter": {
   "hash": "0ff73081532bd48bb4e25f188c9eccb2a87135ceca9167239f33f3fd58e6dd09"
  },
  "kernelspec": {
   "display_name": "Python 3.7.9 64-bit ('venv': venv)",
   "language": "python",
   "name": "python3"
  },
  "language_info": {
   "codemirror_mode": {
    "name": "ipython",
    "version": 3
   },
   "file_extension": ".py",
   "mimetype": "text/x-python",
   "name": "python",
   "nbconvert_exporter": "python",
   "pygments_lexer": "ipython3",
   "version": "3.7.9"
  },
  "orig_nbformat": 4
 },
 "nbformat": 4,
 "nbformat_minor": 2
}
